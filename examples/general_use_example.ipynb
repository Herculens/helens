{
 "cells": [
  {
   "attachments": {},
   "cell_type": "markdown",
   "id": "24a7b51a",
   "metadata": {},
   "source": [
    "# General use of the lens equation solver\n",
    "\n",
    "The notebook is a simple example of how to instantiate the Helens `LensEquationSolver` from an external mass profile model. Here we use Herculens to define that profile, but Helens can be combined with any other JAX-based modeling code.\n",
    "\n",
    "__authors__: @aymgal\n",
    "\n",
    "__last update__: 29/02/24"
   ]
  },
  {
   "cell_type": "code",
   "execution_count": 1,
   "id": "4def6523",
   "metadata": {},
   "outputs": [
    {
     "name": "stderr",
     "output_type": "stream",
     "text": [
      "/Users/aymgal/miniconda3/envs/herculens39/lib/python3.9/site-packages/scipy/__init__.py:155: UserWarning: A NumPy version >=1.18.5 and <1.25.0 is required for this version of SciPy (detected version 1.25.1\n",
      "  warnings.warn(f\"A NumPy version >={np_minversion} and <{np_maxversion}\"\n"
     ]
    }
   ],
   "source": [
    "%matplotlib inline\n",
    "import matplotlib.pyplot as plt\n",
    "from matplotlib.colors import SymLogNorm, LogNorm, Normalize, TwoSlopeNorm\n",
    "plt.rc('image', interpolation='none', origin='lower')\n",
    "import numpy as np\n",
    "import jax.numpy as jnp\n",
    "from jax.config import config\n",
    "config.update(\"jax_enable_x64\", True)\n",
    "\n",
    "# Lens equation solver\n",
    "from helens import LensEquationSolver\n",
    "\n",
    "# Herculens (just as an example)\n",
    "from herculens.Coordinates.pixel_grid import PixelGrid\n",
    "from herculens.MassModel.mass_model import MassModel"
   ]
  },
  {
   "cell_type": "markdown",
   "id": "c2f619c8",
   "metadata": {},
   "source": [
    "## Define the image plane coordinate grid\n",
    "\n",
    "Here we use the `PixelGrid` class from Herculens as an example."
   ]
  },
  {
   "cell_type": "code",
   "execution_count": 2,
   "id": "9ae5deae",
   "metadata": {},
   "outputs": [
    {
     "name": "stdout",
     "output_type": "stream",
     "text": [
      "(200, 200)\n"
     ]
    }
   ],
   "source": [
    "npix = 100  # number of pixel on a side\n",
    "pix_scl = 0.08  # pixel size in arcsec\n",
    "half_size = npix * pix_scl / 2.\n",
    "ra_at_xy_0 = dec_at_xy_0 = -half_size + pix_scl / 2.  # position of the (0, 0) with respect to bottom left pixel\n",
    "transform_pix2angle = pix_scl * np.eye(2)  # transformation matrix pixel <-> angle\n",
    "base_pixel_grid = PixelGrid(\n",
    "    nx=npix, ny=npix,\n",
    "    ra_at_xy_0=ra_at_xy_0, dec_at_xy_0=dec_at_xy_0,\n",
    "    transform_pix2angle=transform_pix2angle,\n",
    ")\n",
    "# Optionally create a higher-resolution grid for the solver\n",
    "solver_pixel_grid = base_pixel_grid.create_model_grid(pixel_scale_factor=0.5)\n",
    "\n",
    "# Retrieve the pixel coordinates as 2D arrays\n",
    "solver_grid_x, solver_grid_y = solver_pixel_grid.pixel_coordinates\n",
    "print(solver_grid_x.shape)"
   ]
  },
  {
   "cell_type": "code",
   "execution_count": 3,
   "id": "b843c8eb",
   "metadata": {},
   "outputs": [
    {
     "data": {
      "text/plain": [
       "(array([[-3.98, -3.94, -3.9 , ...,  3.9 ,  3.94,  3.98],\n",
       "        [-3.98, -3.94, -3.9 , ...,  3.9 ,  3.94,  3.98],\n",
       "        [-3.98, -3.94, -3.9 , ...,  3.9 ,  3.94,  3.98],\n",
       "        ...,\n",
       "        [-3.98, -3.94, -3.9 , ...,  3.9 ,  3.94,  3.98],\n",
       "        [-3.98, -3.94, -3.9 , ...,  3.9 ,  3.94,  3.98],\n",
       "        [-3.98, -3.94, -3.9 , ...,  3.9 ,  3.94,  3.98]]),\n",
       " array([[-3.98, -3.98, -3.98, ..., -3.98, -3.98, -3.98],\n",
       "        [-3.94, -3.94, -3.94, ..., -3.94, -3.94, -3.94],\n",
       "        [-3.9 , -3.9 , -3.9 , ..., -3.9 , -3.9 , -3.9 ],\n",
       "        ...,\n",
       "        [ 3.9 ,  3.9 ,  3.9 , ...,  3.9 ,  3.9 ,  3.9 ],\n",
       "        [ 3.94,  3.94,  3.94, ...,  3.94,  3.94,  3.94],\n",
       "        [ 3.98,  3.98,  3.98, ...,  3.98,  3.98,  3.98]]))"
      ]
     },
     "execution_count": 3,
     "metadata": {},
     "output_type": "execute_result"
    }
   ],
   "source": [
    "solver_grid_x, solver_grid_y"
   ]
  },
  {
   "cell_type": "markdown",
   "id": "7b131c72",
   "metadata": {},
   "source": [
    "## Define the ray-tracing function from a given mass model\n",
    "\n",
    "Here we use the `MassModel` class from Herculens as an example."
   ]
  },
  {
   "cell_type": "code",
   "execution_count": 4,
   "id": "6c1a8178",
   "metadata": {},
   "outputs": [
    {
     "name": "stdout",
     "output_type": "stream",
     "text": [
      "(Array(-0.21275129, dtype=float64, weak_type=True), Array(-0.71866541, dtype=float64, weak_type=True))\n"
     ]
    }
   ],
   "source": [
    "mass_model = MassModel(['EPL', 'SHEAR_GAMMA_PSI'])\n",
    "some_lens_pos_x, some_lens_pos_y = 0.03, 0.02  # lens position\n",
    "some_mass_params = [\n",
    "    {'theta_E': 1.14, 'gamma': 1.92, 'e1': 0.01, 'e2': -0.09, 'center_x': some_lens_pos_x, 'center_y': some_lens_pos_y},  # EPL\n",
    "    {'gamma_ext': 0.08, 'psi_ext': 1.2},  # SHEAR_GAMMA_PSI\n",
    "]\n",
    "\n",
    "def ray_shooting_func(theta_x, theta_y, params):\n",
    "    \"\"\"Function that computes evaluates the lens equation to return beta = theta - alpha(theta)\"\"\"\n",
    "    beta_x, beta_y = mass_model.ray_shooting(theta_x, theta_y, params)\n",
    "    return beta_x, beta_y\n",
    "\n",
    "print(ray_shooting_func(0.1, 0.3, some_mass_params))"
   ]
  },
  {
   "cell_type": "markdown",
   "id": "bec3c07c",
   "metadata": {},
   "source": [
    "## Use the Helens solver\n",
    "\n",
    "Initialize the solver and choose numerical settings"
   ]
  },
  {
   "cell_type": "code",
   "execution_count": 5,
   "id": "04f70f10",
   "metadata": {},
   "outputs": [
    {
     "name": "stdout",
     "output_type": "stream",
     "text": [
      "\u001b[0;31mInit signature:\u001b[0m \u001b[0mLensEquationSolver\u001b[0m\u001b[0;34m(\u001b[0m\u001b[0mgrid_x\u001b[0m\u001b[0;34m,\u001b[0m \u001b[0mgrid_y\u001b[0m\u001b[0;34m,\u001b[0m \u001b[0mray_shooting_func\u001b[0m\u001b[0;34m)\u001b[0m\u001b[0;34m\u001b[0m\u001b[0;34m\u001b[0m\u001b[0m\n",
      "\u001b[0;31mDocstring:\u001b[0m     \n",
      "Solver for the multiple lensed image positions of a source point.\n",
      "The coordinates grid are assumed to be aligned with the image plane axis\n",
      "(i.e., coordinates should define a rotated frame).\n",
      "\n",
      "Parameters\n",
      "----------\n",
      "grid_x : array-like\n",
      "    2D array containing the image plane x coordinates \n",
      "    used to search for multiple images.\n",
      "grid_y : array-like\n",
      "    2D array containing the image plane y coordinates \n",
      "    used to search for multiple images.\n",
      "ray_shooting_func :\n",
      "    Function that takes as input three arguments:\n",
      "    - x coordinate (array or scalar),\n",
      "    - y coordinate (array or scalar),\n",
      "    - parameters of the lens mass model in the right format.\n",
      "    The function should return the ray-shooted coordinates: \n",
      "    beta = theta - alpha(theta), where beta is the deflected source \n",
      "    coordinate of theta, and alpha is the deflection field.\n",
      "\u001b[0;31mFile:\u001b[0m           ~/Science/packages/my_packages/helens/helens/solver.py\n",
      "\u001b[0;31mType:\u001b[0m           type\n",
      "\u001b[0;31mSubclasses:\u001b[0m     "
     ]
    }
   ],
   "source": [
    "?LensEquationSolver"
   ]
  },
  {
   "cell_type": "code",
   "execution_count": 6,
   "id": "27695327",
   "metadata": {},
   "outputs": [],
   "source": [
    "solver = LensEquationSolver(solver_grid_x, solver_grid_y, ray_shooting_func)"
   ]
  },
  {
   "cell_type": "markdown",
   "id": "55fd91c2",
   "metadata": {},
   "source": [
    "Have a look at the hyperparameters of the solver"
   ]
  },
  {
   "cell_type": "code",
   "execution_count": 7,
   "id": "912bd83f",
   "metadata": {},
   "outputs": [
    {
     "name": "stdout",
     "output_type": "stream",
     "text": [
      "\u001b[0;31mSignature:\u001b[0m\n",
      "\u001b[0mLensEquationSolver\u001b[0m\u001b[0;34m.\u001b[0m\u001b[0msolve\u001b[0m\u001b[0;34m(\u001b[0m\u001b[0;34m\u001b[0m\n",
      "\u001b[0;34m\u001b[0m    \u001b[0mself\u001b[0m\u001b[0;34m,\u001b[0m\u001b[0;34m\u001b[0m\n",
      "\u001b[0;34m\u001b[0m    \u001b[0mbeta\u001b[0m\u001b[0;34m,\u001b[0m\u001b[0;34m\u001b[0m\n",
      "\u001b[0;34m\u001b[0m    \u001b[0mlens_params\u001b[0m\u001b[0;34m,\u001b[0m\u001b[0;34m\u001b[0m\n",
      "\u001b[0;34m\u001b[0m    \u001b[0mnsolutions\u001b[0m\u001b[0;34m=\u001b[0m\u001b[0;36m5\u001b[0m\u001b[0;34m,\u001b[0m\u001b[0;34m\u001b[0m\n",
      "\u001b[0;34m\u001b[0m    \u001b[0mniter\u001b[0m\u001b[0;34m=\u001b[0m\u001b[0;36m5\u001b[0m\u001b[0;34m,\u001b[0m\u001b[0;34m\u001b[0m\n",
      "\u001b[0;34m\u001b[0m    \u001b[0mscale_factor\u001b[0m\u001b[0;34m=\u001b[0m\u001b[0;36m2\u001b[0m\u001b[0;34m,\u001b[0m\u001b[0;34m\u001b[0m\n",
      "\u001b[0;34m\u001b[0m    \u001b[0mnsubdivisions\u001b[0m\u001b[0;34m=\u001b[0m\u001b[0;36m1\u001b[0m\u001b[0;34m,\u001b[0m\u001b[0;34m\u001b[0m\n",
      "\u001b[0;34m\u001b[0m\u001b[0;34m)\u001b[0m\u001b[0;34m\u001b[0m\u001b[0;34m\u001b[0m\u001b[0m\n",
      "\u001b[0;31mDocstring:\u001b[0m\n",
      "Solve the lens equation.\n",
      "\n",
      "Parameters\n",
      "----------\n",
      "beta : jax array of shape (2,)\n",
      "    Position of a point source in the source plane.\n",
      "lens_params : dict or list or array\n",
      "    Parameters defining the lens mass model, that are passed\n",
      "    to the function `ray_shooting_func`.\n",
      "nsolutions: int, optional\n",
      "    Number of expected solutions (e.g. 5 for a quad including the\n",
      "    central image)\n",
      "niter : int\n",
      "    Number of iterations of the solver.\n",
      "scale_factor : float, optional\n",
      "    Factor by which to scale the selected triangle areas at each iteration.\n",
      "nsubdivisions : int, optional\n",
      "    Number of times to subdivide (into 4) the selected triangles at\n",
      "    each iteration.\n",
      "\n",
      "Returns\n",
      "-------\n",
      "theta, beta : tuple of 2D jax arrays\n",
      "    Image plane positions and their source plane counterparts are\n",
      "    returned as arrays of shape (N, 2).\n",
      "\u001b[0;31mFile:\u001b[0m      ~/Science/packages/my_packages/helens/helens/solver.py\n",
      "\u001b[0;31mType:\u001b[0m      function"
     ]
    }
   ],
   "source": [
    "?LensEquationSolver.solve"
   ]
  },
  {
   "cell_type": "code",
   "execution_count": 8,
   "id": "4d7a7713",
   "metadata": {},
   "outputs": [],
   "source": [
    "\n",
    "# Hyperparameters of the solver\n",
    "solver_params = {\n",
    "    # You have to specify the number of predicted images in advance\n",
    "    'nsolutions': 5,\n",
    "\n",
    "    # Hyperparameters (see docstring above)\n",
    "    'niter': 5, \n",
    "    'scale_factor': 2, \n",
    "    'nsubdivisions': 3,\n",
    "}"
   ]
  },
  {
   "cell_type": "markdown",
   "id": "95a57286",
   "metadata": {},
   "source": [
    "Based on your the grid resolution, you can obtain a rough estimate of the solver accuracy of the predicted positions in image plane. "
   ]
  },
  {
   "cell_type": "code",
   "execution_count": 9,
   "id": "68b8b4f4",
   "metadata": {},
   "outputs": [
    {
     "name": "stdout",
     "output_type": "stream",
     "text": [
      "Estimated accuracy in image plane (arcsec): 6.91e-06\n"
     ]
    }
   ],
   "source": [
    "estim_acc = solver.estimate_accuracy(\n",
    "    solver_params['niter'], \n",
    "    solver_params['scale_factor'], \n",
    "    solver_params['nsubdivisions']\n",
    ")\n",
    "print(f\"Estimated accuracy in image plane (arcsec): {estim_acc:.2e}\")"
   ]
  },
  {
   "cell_type": "markdown",
   "id": "79daa705",
   "metadata": {},
   "source": [
    "Call the solver and retrieve the predicted image positions"
   ]
  },
  {
   "cell_type": "code",
   "execution_count": 10,
   "id": "5c8fce60",
   "metadata": {},
   "outputs": [],
   "source": [
    "# Set the source position\n",
    "some_beta_x, some_beta_y = -0.12, 0.15\n",
    "some_beta = jnp.array([some_beta_x, some_beta_y])  # jnp.array is not absolutely necessary in this notebook"
   ]
  },
  {
   "cell_type": "code",
   "execution_count": 11,
   "id": "d6c112be",
   "metadata": {},
   "outputs": [
    {
     "name": "stdout",
     "output_type": "stream",
     "text": [
      "CPU times: user 1.3 s, sys: 70.5 ms, total: 1.37 s\n",
      "Wall time: 1.32 s\n"
     ]
    }
   ],
   "source": [
    "%%time\n",
    "_ = solver.solve(\n",
    "    some_beta, some_mass_params, \n",
    "    **solver_params\n",
    ")  # takes some time to JIT-compile"
   ]
  },
  {
   "cell_type": "code",
   "execution_count": 12,
   "id": "49c4e8f7",
   "metadata": {},
   "outputs": [
    {
     "name": "stdout",
     "output_type": "stream",
     "text": [
      "CPU times: user 95.4 ms, sys: 31 ms, total: 126 ms\n",
      "Wall time: 80.9 ms\n"
     ]
    }
   ],
   "source": [
    "%%time\n",
    "result_thetas, result_betas = solver.solve(\n",
    "    some_beta, some_mass_params,\n",
    "    **solver_params\n",
    ")  # this is now very fast and differentiable!"
   ]
  },
  {
   "cell_type": "code",
   "execution_count": 13,
   "id": "de7e9612",
   "metadata": {},
   "outputs": [],
   "source": [
    "# optionally convert the resulting JAX arrays to regular numpy arrays\n",
    "result_thetas, result_betas = np.array(result_thetas), np.array(result_betas)"
   ]
  },
  {
   "cell_type": "code",
   "execution_count": 14,
   "id": "427e8d64",
   "metadata": {},
   "outputs": [],
   "source": [
    "# unpack the results\n",
    "result_theta_x, result_theta_y = result_thetas.T  # image plane positions\n",
    "result_beta_x, result_beta_y = result_betas.T # corresponding source plane positions"
   ]
  },
  {
   "cell_type": "markdown",
   "id": "257617ba",
   "metadata": {},
   "source": [
    "Note that the central image will never be correctly mapped back to source plane, due to the cuspy nature of the deflection map. So we remove we ignore it in `result_betas_no_central`."
   ]
  },
  {
   "cell_type": "code",
   "execution_count": 15,
   "id": "6354c564",
   "metadata": {},
   "outputs": [],
   "source": [
    "idx_central_img = np.argmin(np.hypot((result_theta_x-some_lens_pos_x), (result_theta_y-some_lens_pos_y)))  # just retrieving the closest image to the lens\n",
    "result_beta_x_no_central = np.delete(result_beta_x, idx_central_img)\n",
    "result_beta_y_no_central = np.delete(result_beta_y, idx_central_img)"
   ]
  },
  {
   "cell_type": "markdown",
   "id": "9e73f5ed",
   "metadata": {},
   "source": [
    "## Visualize the results"
   ]
  },
  {
   "cell_type": "code",
   "execution_count": 18,
   "id": "26076997",
   "metadata": {},
   "outputs": [
    {
     "data": {
      "image/png": "[encoded data removed]",
      "text/plain": [
       "<Figure size 640x480 with 1 Axes>"
      ]
     },
     "metadata": {},
     "output_type": "display_data"
    }
   ],
   "source": [
    "fig, axes = plt.subplots(1, 1)\n",
    "ax = axes\n",
    "ax.scatter(some_mass_params[0]['center_x'], some_mass_params[0]['center_y'], \n",
    "           c='black', s=120, marker='+', label=\"Lens position\")\n",
    "ax.scatter(some_beta_x, some_beta_y, c='tab:red', \n",
    "           s=60, marker='*', label=\"Original source position\")\n",
    "ax.scatter(result_theta_x, result_theta_y, c='tab:blue', \n",
    "           s=40, marker='o', label=\"Predicted image positions\")\n",
    "ax.scatter(result_beta_x_no_central, result_beta_y_no_central, c='tab:green',\n",
    "           s=100, marker='x', label=\"Corresponding source positions\", zorder=-1)\n",
    "ax.set_aspect('equal')\n",
    "ax.set_xlim(-2, 2)\n",
    "ax.set_ylim(-2, 2)\n",
    "ax.legend()\n",
    "fig.tight_layout()\n",
    "plt.show()"
   ]
  },
  {
   "cell_type": "code",
   "execution_count": 17,
   "id": "40133c63",
   "metadata": {},
   "outputs": [
    {
     "name": "stdout",
     "output_type": "stream",
     "text": [
      "Original source position: [-0.12  0.15]\n",
      "Mean over source positions: (-0.12000065597789873, 0.15000008059779527)\n"
     ]
    }
   ],
   "source": [
    "print(\"Original source position:\", some_beta)\n",
    "print(\"Mean over source positions:\", (np.mean(result_beta_x_no_central), np.mean(result_beta_y_no_central)))"
   ]
  },
  {
   "cell_type": "code",
   "execution_count": null,
   "id": "b913af85",
   "metadata": {},
   "outputs": [],
   "source": []
  }
 ],
 "metadata": {
  "kernelspec": {
   "display_name": "Python 3 (ipykernel)",
   "language": "python",
   "name": "python3"
  },
  "language_info": {
   "codemirror_mode": {
    "name": "ipython",
    "version": 3
   },
   "file_extension": ".py",
   "mimetype": "text/x-python",
   "name": "python",
   "nbconvert_exporter": "python",
   "pygments_lexer": "ipython3",
   "version": "3.9.16"
  }
 },
 "nbformat": 4,
 "nbformat_minor": 5
}
